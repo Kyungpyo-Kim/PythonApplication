{
 "cells": [
  {
   "cell_type": "markdown",
   "metadata": {},
   "source": [
    "# pytorch setup\n",
    "1. version check: https://pytorch.org/get-started/locally/\n",
    "2. cuDA install (11.6)\n",
    "3. pytorch install (python -m pip install torch torchvision torchaudio --extra-index-url https://download.pytorch.org/whl/cu116)"
   ]
  },
  {
   "cell_type": "code",
   "execution_count": 20,
   "metadata": {},
   "outputs": [
    {
     "name": "stdout",
     "output_type": "stream",
     "text": [
      "1.12.0+cu116\n",
      "NVIDIA GeForce GTX 1650 with Max-Q Design\n",
      "device: cuda:0\n"
     ]
    }
   ],
   "source": [
    "import torch\n",
    "print(torch.__version__)\n",
    "print(torch.cuda.get_device_name(0))\n",
    "device = torch.device(\"cuda:0\" if torch.cuda.is_available() else \"cpu\")\n",
    "print(f\"device: {device}\")"
   ]
  },
  {
   "cell_type": "markdown",
   "metadata": {},
   "source": [
    "## GPU Test"
   ]
  },
  {
   "cell_type": "code",
   "execution_count": 27,
   "metadata": {},
   "outputs": [
    {
     "name": "stdout",
     "output_type": "stream",
     "text": [
      "device type is:  cpu\n",
      "Sequential(\n",
      "  (0): Linear(in_features=1000, out_features=1500, bias=True)\n",
      "  (1): ReLU()\n",
      "  (2): Linear(in_features=1500, out_features=4, bias=True)\n",
      "  (3): ReLU()\n",
      ")\n",
      "MSELoss()\n",
      "Adam (\n",
      "Parameter Group 0\n",
      "    amsgrad: False\n",
      "    betas: (0.9, 0.999)\n",
      "    capturable: False\n",
      "    eps: 1e-08\n",
      "    foreach: None\n",
      "    lr: 0.01\n",
      "    maximize: False\n",
      "    weight_decay: 0\n",
      ")\n",
      "step: 0, loss: 2.669820785522461\n",
      "step: 100, loss: 0.585128128528595\n",
      "step: 200, loss: 1.3256804943084717\n",
      "step: 300, loss: 0.6931978464126587\n",
      "step: 400, loss: 2.089728355407715\n",
      "step: 500, loss: 1.622788906097412\n",
      "step: 600, loss: 0.6590632796287537\n",
      "step: 700, loss: 0.9429803490638733\n",
      "step: 800, loss: 0.9199880957603455\n",
      "step: 900, loss: 0.15211164951324463\n",
      "time: 12.290426969528198\n",
      "device type is:  cuda:0\n",
      "Sequential(\n",
      "  (0): Linear(in_features=1000, out_features=1500, bias=True)\n",
      "  (1): ReLU()\n",
      "  (2): Linear(in_features=1500, out_features=4, bias=True)\n",
      "  (3): ReLU()\n",
      ")\n",
      "MSELoss()\n",
      "Adam (\n",
      "Parameter Group 0\n",
      "    amsgrad: False\n",
      "    betas: (0.9, 0.999)\n",
      "    capturable: False\n",
      "    eps: 1e-08\n",
      "    foreach: None\n",
      "    lr: 0.01\n",
      "    maximize: False\n",
      "    weight_decay: 0\n",
      ")\n",
      "step: 0, loss: 0.6091243028640747\n",
      "step: 100, loss: 1.5013331174850464\n",
      "step: 200, loss: 0.324800044298172\n",
      "step: 300, loss: 0.12396330386400223\n",
      "step: 400, loss: 0.4856686592102051\n",
      "step: 500, loss: 0.32404664158821106\n",
      "step: 600, loss: 0.6004924774169922\n",
      "step: 700, loss: 0.9334220886230469\n",
      "step: 800, loss: 0.8765096664428711\n",
      "step: 900, loss: 0.705359697341919\n",
      "time: 3.1227052211761475\n"
     ]
    }
   ],
   "source": [
    "import time\n",
    "\n",
    "device_test = [\"cpu\", device]\n",
    "for d in device_test:\n",
    "    print(\"device type is: \", d)\n",
    "    start = time.time()\n",
    "    model = torch.nn.Sequential(\n",
    "        torch.nn.Linear(1000, 1500),\n",
    "        torch.nn.ReLU(),\n",
    "        torch.nn.Linear(1500, 4),\n",
    "        torch.nn.ReLU(),\n",
    "    )\n",
    "    model.to(d)\n",
    "    loss_fn = torch.nn.MSELoss()\n",
    "    optimizer = torch.optim.Adam(model.parameters(), lr=0.01)\n",
    "\n",
    "    print(model)\n",
    "    print(loss_fn)\n",
    "    print(optimizer)\n",
    "\n",
    "    for step in range(1000):\n",
    "        x = torch.randn(1, 1000).to(d)\n",
    "        y = torch.randn(1, 4).to(d)\n",
    "\n",
    "        y_pred = model(x)\n",
    "        loss = loss_fn(y_pred, y)\n",
    "\n",
    "        optimizer.zero_grad()\n",
    "        loss.backward()\n",
    "        optimizer.step()\n",
    "\n",
    "        if step % 100 == 0:\n",
    "            print(f\"step: {step}, loss: {loss.item()}\")\n",
    "\n",
    "    print(f\"time: {time.time() - start}\")"
   ]
  },
  {
   "cell_type": "markdown",
   "metadata": {},
   "source": [
    "## Module Test"
   ]
  },
  {
   "cell_type": "code",
   "execution_count": 19,
   "metadata": {},
   "outputs": [
    {
     "name": "stdout",
     "output_type": "stream",
     "text": [
      "TestModel(\n",
      "  (linear1): Linear(in_features=10, out_features=150, bias=True)\n",
      "  (linear2): Linear(in_features=150, out_features=4, bias=True)\n",
      ")\n",
      "MSELoss()\n",
      "Adam (\n",
      "Parameter Group 0\n",
      "    amsgrad: False\n",
      "    betas: (0.9, 0.999)\n",
      "    capturable: False\n",
      "    eps: 1e-08\n",
      "    foreach: None\n",
      "    lr: 0.01\n",
      "    maximize: False\n",
      "    weight_decay: 0\n",
      ")\n",
      "step: 0, loss: 0.9364004135131836\n",
      "step: 10, loss: 4.137803554534912\n",
      "step: 20, loss: 1.1578632593154907\n",
      "step: 30, loss: 0.9065279960632324\n",
      "step: 40, loss: 0.2240477204322815\n",
      "step: 50, loss: 2.644383430480957\n",
      "step: 60, loss: 1.051539421081543\n",
      "step: 70, loss: 0.4475976824760437\n",
      "step: 80, loss: 1.3983807563781738\n",
      "step: 90, loss: 0.9428542256355286\n"
     ]
    }
   ],
   "source": [
    "from torch.nn import Module, Linear\n",
    "\n",
    "class TestModel(Module):\n",
    "    def __init__(self):\n",
    "        super().__init__()\n",
    "        self.linear1 = Linear(10, 150)\n",
    "        self.linear2 = Linear(150, 4)\n",
    "\n",
    "    def forward(self, x):\n",
    "        x = self.linear1(x)\n",
    "        x = self.linear2(x)\n",
    "        return x\n",
    "\n",
    "model = TestModel()\n",
    "loss_fn = torch.nn.MSELoss()\n",
    "optimizer = torch.optim.Adam(model.parameters(), lr=0.01)\n",
    "\n",
    "print(model)\n",
    "print(loss_fn)\n",
    "print(optimizer)\n",
    "\n",
    "for step in range(100):\n",
    "    x = torch.randn(1, 10)\n",
    "    y = torch.randn(1, 4)\n",
    "\n",
    "    y_pred = model(x)\n",
    "    loss = loss_fn(y_pred, y)\n",
    "\n",
    "    optimizer.zero_grad()\n",
    "    loss.backward()\n",
    "    optimizer.step()\n",
    "\n",
    "    if step % 10 == 0:\n",
    "        print(f\"step: {step}, loss: {loss.item()}\")"
   ]
  },
  {
   "cell_type": "code",
   "execution_count": null,
   "metadata": {},
   "outputs": [],
   "source": []
  }
 ],
 "metadata": {
  "kernelspec": {
   "display_name": "Python 3.9.13 ('env': venv)",
   "language": "python",
   "name": "python3"
  },
  "language_info": {
   "codemirror_mode": {
    "name": "ipython",
    "version": 3
   },
   "file_extension": ".py",
   "mimetype": "text/x-python",
   "name": "python",
   "nbconvert_exporter": "python",
   "pygments_lexer": "ipython3",
   "version": "3.9.13"
  },
  "orig_nbformat": 4,
  "vscode": {
   "interpreter": {
    "hash": "555ae82ab599f1341f28a1a2550fe61cb314e57822ca5cd73bd361ec767c9aeb"
   }
  }
 },
 "nbformat": 4,
 "nbformat_minor": 2
}
