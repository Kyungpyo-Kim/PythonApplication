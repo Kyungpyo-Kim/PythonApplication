{
 "cells": [
  {
   "cell_type": "code",
   "execution_count": 1,
   "metadata": {
    "collapsed": false,
    "jupyter": {
     "outputs_hidden": false
    }
   },
   "outputs": [],
   "source": [
    "%matplotlib inline"
   ]
  },
  {
   "cell_type": "markdown",
   "metadata": {},
   "source": [
    "\n",
    "# 10 - Tracking in simulation: bringing all components together\n",
    "The previous tutorials have introduced various aspects of Stone Soup covering inference and data\n",
    "association for multiple-target trackers, using simulated data. This tutorial consolidates those\n",
    "aspects in a notebook which can be modified to individual need. It contains all aspects\n",
    "introduced in previous tutorials, and nothing new.\n"
   ]
  },
  {
   "cell_type": "markdown",
   "metadata": {},
   "source": [
    "## Process\n",
    "This notebook, as with the previous, proceeds according to the following steps:\n",
    "\n",
    "1. Create the simulation\n",
    "\n",
    "  * Initialise the 'playing field'\n",
    "  * Choose number of targets and initial states\n",
    "  * Create some transition models\n",
    "  * Create some sensor models\n",
    "\n",
    "2. Initialise the tracker components\n",
    "\n",
    "  * Initialise predictors\n",
    "  * Initialise updaters\n",
    "  * Initialise data associations, hypothesisers\n",
    "  * Initiators and deleters\n",
    "  * Create the tracker\n",
    "\n",
    "3. Run the tracker\n",
    "\n",
    "  * Plot the output\n",
    "\n",
    "\n"
   ]
  },
  {
   "cell_type": "markdown",
   "metadata": {},
   "source": [
    "## Create the simulation\n",
    "\n"
   ]
  },
  {
   "cell_type": "markdown",
   "metadata": {},
   "source": [
    "Separate out the imports\n",
    "\n"
   ]
  },
  {
   "cell_type": "code",
   "execution_count": 2,
   "metadata": {
    "collapsed": false,
    "jupyter": {
     "outputs_hidden": false
    }
   },
   "outputs": [],
   "source": [
    "import numpy as np\n",
    "import datetime"
   ]
  },
  {
   "cell_type": "markdown",
   "metadata": {},
   "source": [
    "### Initialise ground truth\n",
    "Here are some configurable parameters associated with the ground truth, e.g. defining where\n",
    "tracks are born and at what rate, death probability. This follows similar logic to the code\n",
    "in previous tutorial section `auto_tutorials/09_Initiators_&_Deleters:Simulating Multiple\n",
    "Targets`.\n",
    "\n"
   ]
  },
  {
   "cell_type": "code",
   "execution_count": 3,
   "metadata": {
    "collapsed": false,
    "jupyter": {
     "outputs_hidden": false
    }
   },
   "outputs": [],
   "source": [
    "from stonesoup.types.array import StateVector, CovarianceMatrix\n",
    "from stonesoup.types.state import GaussianState\n",
    "initial_state_mean = StateVector([[0], [0], [0], [0]])\n",
    "initial_state_covariance = CovarianceMatrix(np.diag([4, 0.5, 4, 0.5]))\n",
    "timestep_size = datetime.timedelta(seconds=5)\n",
    "number_of_steps = 20\n",
    "birth_rate = 0.3\n",
    "death_probability = 0.05\n",
    "initial_state = GaussianState(initial_state_mean, initial_state_covariance)"
   ]
  },
  {
   "cell_type": "markdown",
   "metadata": {},
   "source": [
    "Create the transition model - default set to 2d nearly-constant velocity with small (0.05)\n",
    "variance.\n",
    "\n"
   ]
  },
  {
   "cell_type": "code",
   "execution_count": 4,
   "metadata": {
    "collapsed": false,
    "jupyter": {
     "outputs_hidden": false
    }
   },
   "outputs": [],
   "source": [
    "from stonesoup.models.transition.linear import (\n",
    "    CombinedLinearGaussianTransitionModel, ConstantVelocity)\n",
    "transition_model = CombinedLinearGaussianTransitionModel(\n",
    "    [ConstantVelocity(0.05), ConstantVelocity(0.05)])"
   ]
  },
  {
   "cell_type": "markdown",
   "metadata": {},
   "source": [
    "Put this all together in a multi-target simulator.\n",
    "\n"
   ]
  },
  {
   "cell_type": "code",
   "execution_count": 5,
   "metadata": {
    "collapsed": false,
    "jupyter": {
     "outputs_hidden": false
    }
   },
   "outputs": [],
   "source": [
    "from stonesoup.simulator.simple import MultiTargetGroundTruthSimulator\n",
    "groundtruth_sim = MultiTargetGroundTruthSimulator(\n",
    "    transition_model=transition_model,\n",
    "    initial_state=initial_state,\n",
    "    timestep=timestep_size,\n",
    "    number_steps=number_of_steps,\n",
    "    birth_rate=birth_rate,\n",
    "    death_probability=death_probability\n",
    ")"
   ]
  },
  {
   "cell_type": "markdown",
   "metadata": {},
   "source": [
    "### Initialise the measurement models\n",
    "The simulated ground truth will then be passed to a simple detection simulator. This again has a\n",
    "number of configurable parameters, e.g. where clutter is generated and at what rate, and\n",
    "detection probability. This implements similar logic to the code in the previous tutorial section\n",
    "`auto_tutorials/09_Initiators_&_Deleters:Generate Detections and Clutter`.\n",
    "\n"
   ]
  },
  {
   "cell_type": "code",
   "execution_count": 6,
   "metadata": {
    "collapsed": false,
    "jupyter": {
     "outputs_hidden": false
    }
   },
   "outputs": [],
   "source": [
    "from stonesoup.simulator.simple import SimpleDetectionSimulator\n",
    "from stonesoup.models.measurement.linear import LinearGaussian\n",
    "\n",
    "# initialise the measurement model\n",
    "measurement_model_covariance = np.diag([0.25, 0.25])\n",
    "measurement_model = LinearGaussian(4, [0, 2], measurement_model_covariance)\n",
    "\n",
    "# probability of detection\n",
    "probability_detection = 0.9\n",
    "\n",
    "# clutter will be generated uniformly in this are around the target\n",
    "clutter_area = np.array([[-1, 1], [-1, 1]])*30\n",
    "clutter_rate = 1"
   ]
  },
  {
   "cell_type": "markdown",
   "metadata": {},
   "source": [
    "The detection simulator\n",
    "\n"
   ]
  },
  {
   "cell_type": "code",
   "execution_count": 7,
   "metadata": {
    "collapsed": false,
    "jupyter": {
     "outputs_hidden": false
    }
   },
   "outputs": [],
   "source": [
    "detection_sim = SimpleDetectionSimulator(\n",
    "    groundtruth=groundtruth_sim,\n",
    "    measurement_model=measurement_model,\n",
    "    detection_probability=probability_detection,\n",
    "    meas_range=clutter_area,\n",
    "    clutter_rate=clutter_rate\n",
    ")"
   ]
  },
  {
   "cell_type": "markdown",
   "metadata": {},
   "source": [
    "## Create the tracker components\n",
    "In this example a Kalman filter is used with global nearest neighbour (GNN) associator. Other\n",
    "options are, of course, available.\n",
    "\n",
    "\n"
   ]
  },
  {
   "cell_type": "markdown",
   "metadata": {},
   "source": [
    "### Predictor\n",
    "Initialise the predictor using the same transition model as generated the ground truth. Note you\n",
    "don't have to use the same model.\n",
    "\n"
   ]
  },
  {
   "cell_type": "code",
   "execution_count": 8,
   "metadata": {
    "collapsed": false,
    "jupyter": {
     "outputs_hidden": false
    }
   },
   "outputs": [],
   "source": [
    "from stonesoup.predictor.kalman import KalmanPredictor\n",
    "predictor = KalmanPredictor(transition_model)"
   ]
  },
  {
   "cell_type": "markdown",
   "metadata": {},
   "source": [
    "### Updater\n",
    "Initialise the updater using the same measurement model as generated the simulated detections.\n",
    "Note, again, you don't have to use the same model (noise covariance).\n",
    "\n"
   ]
  },
  {
   "cell_type": "code",
   "execution_count": 9,
   "metadata": {
    "collapsed": false,
    "jupyter": {
     "outputs_hidden": false
    }
   },
   "outputs": [],
   "source": [
    "from stonesoup.updater.kalman import KalmanUpdater\n",
    "updater = KalmanUpdater(measurement_model)"
   ]
  },
  {
   "cell_type": "markdown",
   "metadata": {},
   "source": [
    "### Data associator\n",
    "Initialise a hypothesiser which will rank predicted measurement - measurement pairs according to\n",
    "some measure.\n",
    "Initialise a Mahalanobis distance measure to facilitate this ranking.\n",
    "\n"
   ]
  },
  {
   "cell_type": "code",
   "execution_count": 10,
   "metadata": {
    "collapsed": false,
    "jupyter": {
     "outputs_hidden": false
    }
   },
   "outputs": [],
   "source": [
    "from stonesoup.hypothesiser.distance import DistanceHypothesiser\n",
    "from stonesoup.measures import Mahalanobis\n",
    "hypothesiser = DistanceHypothesiser(predictor, updater, measure=Mahalanobis(), missed_distance=3)"
   ]
  },
  {
   "cell_type": "markdown",
   "metadata": {},
   "source": [
    "Initialise the GNN with the hypothesiser.\n",
    "\n"
   ]
  },
  {
   "cell_type": "code",
   "execution_count": 11,
   "metadata": {
    "collapsed": false,
    "jupyter": {
     "outputs_hidden": false
    }
   },
   "outputs": [],
   "source": [
    "from stonesoup.dataassociator.neighbour import GNNWith2DAssignment\n",
    "data_associator = GNNWith2DAssignment(hypothesiser)"
   ]
  },
  {
   "cell_type": "markdown",
   "metadata": {},
   "source": [
    "### Initiator and Deleter\n",
    "Create deleter - get rid of anything with a covariance trace greater than 2\n",
    "\n"
   ]
  },
  {
   "cell_type": "code",
   "execution_count": 12,
   "metadata": {
    "collapsed": false,
    "jupyter": {
     "outputs_hidden": false
    }
   },
   "outputs": [],
   "source": [
    "from stonesoup.deleter.error import CovarianceBasedDeleter\n",
    "covariance_limit_for_delete = 2\n",
    "deleter = CovarianceBasedDeleter(covariance_limit_for_delete)"
   ]
  },
  {
   "cell_type": "markdown",
   "metadata": {},
   "source": [
    "Set a standard prior state and the minimum number of detections required to qualify for\n",
    "initiation\n",
    "\n"
   ]
  },
  {
   "cell_type": "code",
   "execution_count": 13,
   "metadata": {
    "collapsed": false,
    "jupyter": {
     "outputs_hidden": false
    }
   },
   "outputs": [],
   "source": [
    "s_prior_state = GaussianState([[0], [0], [0], [0]], np.diag([0, 0.5, 0, 0.5]))\n",
    "min_detections = 3"
   ]
  },
  {
   "cell_type": "markdown",
   "metadata": {},
   "source": [
    "Initialise the initiator - use the 'full tracker' components specified above in the initiator.\n",
    "But note that other ones could be used if needed.\n",
    "\n"
   ]
  },
  {
   "cell_type": "code",
   "execution_count": 14,
   "metadata": {
    "collapsed": false,
    "jupyter": {
     "outputs_hidden": false
    }
   },
   "outputs": [],
   "source": [
    "from stonesoup.initiator.simple import MultiMeasurementInitiator\n",
    "initiator = MultiMeasurementInitiator(\n",
    "    prior_state=s_prior_state,\n",
    "    measurement_model=measurement_model,\n",
    "    deleter=deleter,\n",
    "    data_associator=data_associator,\n",
    "    updater=updater,\n",
    "    min_points=min_detections\n",
    ")"
   ]
  },
  {
   "cell_type": "markdown",
   "metadata": {},
   "source": [
    "## Run the Tracker\n",
    "With the components created, the multi-target tracker component is created, constructed from\n",
    "the components specified above. This is logically the same as tracking code in the previous\n",
    "tutorial section `auto_tutorials/09_Initiators_&_Deleters:Running the Tracker`\n",
    "\n"
   ]
  },
  {
   "cell_type": "code",
   "execution_count": 15,
   "metadata": {
    "collapsed": false,
    "jupyter": {
     "outputs_hidden": false
    }
   },
   "outputs": [],
   "source": [
    "from stonesoup.tracker.simple import MultiTargetTracker\n",
    "\n",
    "tracker = MultiTargetTracker(\n",
    "    initiator=initiator,\n",
    "    deleter=deleter,\n",
    "    detector=detection_sim,\n",
    "    data_associator=data_associator,\n",
    "    updater=updater,\n",
    ")"
   ]
  },
  {
   "cell_type": "markdown",
   "metadata": {},
   "source": [
    "### Plot the outputs\n",
    "We plot the output using a Stone Soup :class:`MetricGenerator` which does plots (in this instance\n",
    ":class:`TwoDPlotter`. This will produce plots equivalent to that seen in previous tutorials.\n",
    "\n"
   ]
  },
  {
   "cell_type": "code",
   "execution_count": 16,
   "metadata": {
    "collapsed": false,
    "jupyter": {
     "outputs_hidden": false
    }
   },
   "outputs": [
    {
     "data": {
      "image/png": "[encoded data removed]",
      "text/plain": [
       "<Figure size 432x288 with 1 Axes>"
      ]
     },
     "metadata": {
      "needs_background": "light"
     },
     "output_type": "display_data"
    }
   ],
   "source": [
    "groundtruth = set()\n",
    "detections = set()\n",
    "tracks = set()\n",
    "for time, ctracks in tracker:\n",
    "    groundtruth.update(groundtruth_sim.groundtruth_paths)\n",
    "    detections.update(detection_sim.detections)\n",
    "    tracks.update(ctracks)\n",
    "\n",
    "from stonesoup.metricgenerator.plotter import TwoDPlotter\n",
    "plotter = TwoDPlotter(track_indices=[0, 2], gtruth_indices=[0, 2], detection_indices=[0, 1])\n",
    "fig = plotter.plot_tracks_truth_detections(tracks, groundtruth, detections).value\n",
    "\n",
    "ax = fig.axes[0]\n",
    "ax.set_xlim([-30, 30])\n",
    "_ = ax.set_ylim([-30, 30])"
   ]
  }
 ],
 "metadata": {
  "kernelspec": {
   "display_name": "Python 3",
   "language": "python",
   "name": "python3"
  },
  "language_info": {
   "codemirror_mode": {
    "name": "ipython",
    "version": 3
   },
   "file_extension": ".py",
   "mimetype": "text/x-python",
   "name": "python",
   "nbconvert_exporter": "python",
   "pygments_lexer": "ipython3",
   "version": "3.8.5"
  }
 },
 "nbformat": 4,
 "nbformat_minor": 4
}
