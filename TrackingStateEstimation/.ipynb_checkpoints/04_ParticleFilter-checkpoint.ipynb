{
 "cells": [
  {
   "cell_type": "code",
   "execution_count": 1,
   "metadata": {
    "collapsed": false,
    "jupyter": {
     "outputs_hidden": false
    }
   },
   "outputs": [],
   "source": [
    "%matplotlib inline"
   ]
  },
  {
   "cell_type": "markdown",
   "metadata": {},
   "source": [
    "\n",
    "# 4 - Sampling methods: particle filter\n"
   ]
  },
  {
   "cell_type": "markdown",
   "metadata": {},
   "source": [
    "In the previous tutorials we encountered some shortcomings in describing distributions as\n",
    "Gaussians, albeit with considerable flexibility in coping with the non-linear transforms.\n",
    "\n",
    "Sampling methods offer an attractive alternative to such parametric methods in that there is\n",
    "no need for complicated though approximate covariance calculations. In this tutorial we look at a\n",
    "class of *sequential Monte Carlo sampling* methods, and in particular, the *particle filter*.\n",
    "\n",
    "Colloquially we can think of a particle filter as a series of point samples being recursed\n",
    "through the predict-update stages of a Bayesian filter. The diversity of samples compensates for\n",
    "the lack of a covariance estimate, though often at the expense of increased computation\n",
    "requirements.\n",
    "\n",
    "## Background\n",
    "\n",
    "In more detail, we seek to approximate the posterior state estimate as a sum of samples, or\n",
    "particles,\n",
    "\n",
    "\\begin{align}p(\\textbf{x}_{k}|\\textbf{z}_{1:k}) \\approx\n",
    "      \\sum_{i} w_{k}^i \\delta (\\textbf{x}_{k} - \\textbf{x}_{k}^i)\\end{align}\n",
    "\n",
    "where $w_{k}^i$ are weights such that $\\sum\\limits_{i} w_{k}^i = 1$. This posterior\n",
    "can be calculated, and subsequently maintained, by successive applications of the\n",
    "Chapman-Kolmogorov equation and Bayes rule in an analogous manner to the Kalman family of\n",
    "filters of previous tutorials. There is considerable flexibility in how to sample from these\n",
    "various distributions and the interested reader can refer to [#]_ for more detail.\n",
    "\n",
    "The present tutorial focuses on a so-called *sequential importance resampling* filter. This is\n",
    "facilitated by a number of Stone Soup classes. The weight-update equation is,\n",
    "\n",
    "\\begin{align}w^i_k = w^i_{k-1}\n",
    "          \\frac{p(\\mathbf{z}_k|\\mathbf{x}^i_k) p(\\mathbf{x}^i_k|\\mathbf{x}^1_{k-1})}\n",
    "               {q(\\mathbf{x}^i_k|\\mathbf{x}^1_{k-1},\\mathbf{z}^i_{1:k})}\\end{align}\n",
    "\n",
    "where $p(\\mathbf{z}_k | \\mathbf{x}^i_k)$ is the likelihood distribution (as defined by the\n",
    ":class:`~.MeasurementModel`) and $p(\\mathbf{x}^i_k|\\mathbf{x}^1_{k-1})$ is the transition\n",
    "probability distribution (:class:`~.TransitionModel`). The $q(\\cdot)$ distribution -- the\n",
    "importance density -- should approximate the posterior distribution, while still being easy to\n",
    "sample from.\n",
    "\n",
    "A common occurrence in such methods is that of *sample impoverishment*. After a few iterations,\n",
    "all but a small number of the particles will have negligible weight. This affects accuracy and\n",
    "wastes computation on particles with little effect on the estimate. Many resampling schemes\n",
    "exist and are designed to redistribute particles to areas where the posterior probability is\n",
    "higher. In Stone Soup such resampling is accomplished by a :class:`~.Resampler`. More detail is\n",
    "provided in the\n",
    "example below.\n",
    "\n"
   ]
  },
  {
   "cell_type": "markdown",
   "metadata": {},
   "source": [
    "## Nearly-constant velocity example\n",
    "We continue in the same vein as the previous tutorials.\n",
    "\n",
    "### Ground truth\n",
    "Import the necessary libraries\n",
    "\n"
   ]
  },
  {
   "cell_type": "code",
   "execution_count": 2,
   "metadata": {
    "collapsed": false,
    "jupyter": {
     "outputs_hidden": false
    }
   },
   "outputs": [],
   "source": [
    "import numpy as np\n",
    "\n",
    "from datetime import datetime\n",
    "from datetime import timedelta\n",
    "start_time = datetime.now()"
   ]
  },
  {
   "cell_type": "code",
   "execution_count": 3,
   "metadata": {
    "collapsed": false,
    "jupyter": {
     "outputs_hidden": false
    }
   },
   "outputs": [],
   "source": [
    "np.random.seed(1991)"
   ]
  },
  {
   "cell_type": "markdown",
   "metadata": {},
   "source": [
    "Initialise Stone Soup ground-truth and transition models.\n",
    "\n"
   ]
  },
  {
   "cell_type": "code",
   "execution_count": 4,
   "metadata": {
    "collapsed": false,
    "jupyter": {
     "outputs_hidden": false
    }
   },
   "outputs": [],
   "source": [
    "from stonesoup.models.transition.linear import CombinedLinearGaussianTransitionModel, \\\n",
    "    ConstantVelocity\n",
    "from stonesoup.types.groundtruth import GroundTruthPath, GroundTruthState\n",
    "\n",
    "transition_model = CombinedLinearGaussianTransitionModel([ConstantVelocity(0.05),\n",
    "                                                          ConstantVelocity(0.05)])\n",
    "truth = GroundTruthPath([GroundTruthState([0, 1, 0, 1], timestamp=start_time)])"
   ]
  },
  {
   "cell_type": "markdown",
   "metadata": {},
   "source": [
    "Create the truth path\n",
    "\n"
   ]
  },
  {
   "cell_type": "code",
   "execution_count": 5,
   "metadata": {
    "collapsed": false,
    "jupyter": {
     "outputs_hidden": false
    }
   },
   "outputs": [],
   "source": [
    "for k in range(1, 21):\n",
    "    truth.append(GroundTruthState(\n",
    "        transition_model.function(truth[k-1], noise=True, time_interval=timedelta(seconds=1)),\n",
    "        timestamp=start_time+timedelta(seconds=k)))"
   ]
  },
  {
   "cell_type": "markdown",
   "metadata": {},
   "source": [
    "Plot the ground truth.\n",
    "\n"
   ]
  },
  {
   "cell_type": "code",
   "execution_count": 6,
   "metadata": {
    "collapsed": false,
    "jupyter": {
     "outputs_hidden": false
    }
   },
   "outputs": [
    {
     "data": {
      "image/png": "[encoded data removed]",
      "text/plain": [
       "<Figure size 720x432 with 1 Axes>"
      ]
     },
     "metadata": {
      "needs_background": "light"
     },
     "output_type": "display_data"
    }
   ],
   "source": [
    "from stonesoup.plotter import Plotter\n",
    "plotter = Plotter()\n",
    "plotter.plot_ground_truths(truth, [0, 2])"
   ]
  },
  {
   "cell_type": "markdown",
   "metadata": {},
   "source": [
    "Initialise the bearing, range sensor using the appropriate measurement model.\n",
    "\n"
   ]
  },
  {
   "cell_type": "code",
   "execution_count": 7,
   "metadata": {
    "collapsed": false,
    "jupyter": {
     "outputs_hidden": false
    }
   },
   "outputs": [],
   "source": [
    "from stonesoup.models.measurement.nonlinear import CartesianToBearingRange\n",
    "from stonesoup.types.detection import Detection\n",
    "\n",
    "sensor_x = 50\n",
    "sensor_y = 0\n",
    "\n",
    "measurement_model = CartesianToBearingRange(\n",
    "    ndim_state=4,\n",
    "    mapping=(0, 2),\n",
    "    noise_covar=np.diag([np.radians(0.2), 1]),\n",
    "    translation_offset=np.array([[sensor_x], [sensor_y]])\n",
    ")"
   ]
  },
  {
   "cell_type": "markdown",
   "metadata": {},
   "source": [
    "Populate the measurement array\n",
    "\n"
   ]
  },
  {
   "cell_type": "code",
   "execution_count": 8,
   "metadata": {
    "collapsed": false,
    "jupyter": {
     "outputs_hidden": false
    }
   },
   "outputs": [],
   "source": [
    "measurements = []\n",
    "for state in truth:\n",
    "    measurement = measurement_model.function(state, noise=True)\n",
    "    measurements.append(Detection(measurement, timestamp=state.timestamp,\n",
    "                                  measurement_model=measurement_model))"
   ]
  },
  {
   "cell_type": "markdown",
   "metadata": {},
   "source": [
    "Plot those measurements\n",
    "\n"
   ]
  },
  {
   "cell_type": "code",
   "execution_count": 9,
   "metadata": {
    "collapsed": false,
    "jupyter": {
     "outputs_hidden": false
    }
   },
   "outputs": [
    {
     "data": {
      "image/png": "[encoded data removed]",
      "text/plain": [
       "<Figure size 720x432 with 1 Axes>"
      ]
     },
     "execution_count": 9,
     "metadata": {},
     "output_type": "execute_result"
    }
   ],
   "source": [
    "plotter.plot_measurements(measurements, [0, 2])\n",
    "plotter.fig"
   ]
  },
  {
   "cell_type": "markdown",
   "metadata": {},
   "source": [
    "### Set up the particle filter\n",
    "Analogously to the Kalman family, we create a :class:`~.ParticlePredictor` and a\n",
    ":class:`~.ParticleUpdater` which take responsibility for the predict and update steps\n",
    "respectively. These require a :class:`~.TransitionModel` and :class:`~.MeasurementModel` as\n",
    "before.\n",
    "To cope with sample sparsity we also include a resampler, in this instance\n",
    ":class:`~.SystematicResampler`, which is passed to the updater. It should be noted that there are\n",
    "many resampling schemes, and almost as many choices as to when to undertake resampling. The\n",
    "systematic resampler is described in [#]_, and in what follows below resampling is undertaken\n",
    "at each time-step.\n",
    "\n"
   ]
  },
  {
   "cell_type": "code",
   "execution_count": 10,
   "metadata": {
    "collapsed": false,
    "jupyter": {
     "outputs_hidden": false
    }
   },
   "outputs": [],
   "source": [
    "from stonesoup.predictor.particle import ParticlePredictor\n",
    "predictor = ParticlePredictor(transition_model)\n",
    "from stonesoup.resampler.particle import SystematicResampler\n",
    "resampler = SystematicResampler()\n",
    "from stonesoup.updater.particle import ParticleUpdater\n",
    "updater = ParticleUpdater(measurement_model, resampler)"
   ]
  },
  {
   "cell_type": "markdown",
   "metadata": {},
   "source": [
    "### Initialise a prior\n",
    "To start we create a prior estimate. This is a set of :class:`~.Particle` and we sample from\n",
    "Gaussian distribution (using the same parameters we had in the previous examples).\n",
    "\n"
   ]
  },
  {
   "cell_type": "code",
   "execution_count": 11,
   "metadata": {
    "collapsed": false,
    "jupyter": {
     "outputs_hidden": false
    }
   },
   "outputs": [],
   "source": [
    "from scipy.stats import multivariate_normal\n",
    "\n",
    "from stonesoup.types.particle import Particle\n",
    "from stonesoup.types.numeric import Probability  # Similar to a float type\n",
    "from stonesoup.types.state import ParticleState\n",
    "\n",
    "number_particles = 200\n",
    "\n",
    "# Sample from the prior Gaussian distribution\n",
    "samples = multivariate_normal.rvs(np.array([0, 1, 0, 1]),\n",
    "                                  np.diag([1.5, 0.5, 1.5, 0.5]),\n",
    "                                  size=number_particles)\n",
    "\n",
    "particles = [\n",
    "    Particle(sample.reshape(-1, 1), weight=Probability(1/number_particles)) for sample in samples]\n",
    "\n",
    "# Create prior particle state.\n",
    "prior = ParticleState(particles, timestamp=start_time)"
   ]
  },
  {
   "cell_type": "markdown",
   "metadata": {},
   "source": [
    "### Run the tracker\n",
    "We now run the predict and update steps, propagating the collection of particles and resampling\n",
    "when told to (at every step).\n",
    "\n"
   ]
  },
  {
   "cell_type": "code",
   "execution_count": 12,
   "metadata": {
    "collapsed": false,
    "jupyter": {
     "outputs_hidden": false
    }
   },
   "outputs": [],
   "source": [
    "from stonesoup.types.hypothesis import SingleHypothesis\n",
    "from stonesoup.types.track import Track\n",
    "\n",
    "track = Track()\n",
    "for measurement in measurements:\n",
    "    prediction = predictor.predict(prior, timestamp=measurement.timestamp)\n",
    "    hypothesis = SingleHypothesis(prediction, measurement)\n",
    "    post = updater.update(hypothesis)\n",
    "    track.append(post)\n",
    "    prior = track[-1]"
   ]
  },
  {
   "cell_type": "markdown",
   "metadata": {},
   "source": [
    "Plot the resulting track with the sample points at each iteration.\n",
    "\n"
   ]
  },
  {
   "cell_type": "code",
   "execution_count": 13,
   "metadata": {
    "collapsed": false,
    "jupyter": {
     "outputs_hidden": false
    }
   },
   "outputs": [
    {
     "data": {
      "image/png": "[encoded data removed]",
      "text/plain": [
       "<Figure size 720x432 with 1 Axes>"
      ]
     },
     "execution_count": 13,
     "metadata": {},
     "output_type": "execute_result"
    }
   ],
   "source": [
    "plotter.plot_tracks(track, [0, 2], particle=True)\n",
    "plotter.fig"
   ]
  },
  {
   "cell_type": "markdown",
   "metadata": {},
   "source": [
    "## Key points\n",
    "1. Sampling methods offer an attractive alternative to Kalman-based filtering for recursive\n",
    "   state estimation.\n",
    "2. The particle filter trades off a more subtle quantification of a non-Gaussian\n",
    "   estimate against increased computational effort.\n",
    "3. Very often particle filters encounter sample impoverishment and require a resampling step.\n",
    "\n"
   ]
  },
  {
   "cell_type": "markdown",
   "metadata": {},
   "source": [
    "## References\n",
    ".. [#] Sanjeev Arulampalam M., Maskell S., Gordon N., Clapp T. 2002, Tutorial on Particle Filters\n",
    "       for Online Nonlinear/Non-Gaussian Bayesian Tracking,  IEEE transactions on signal\n",
    "       processing, vol. 50, no. 2\n",
    "\n",
    ".. [#] Carpenter J., Clifford P., Fearnhead P. 1999, An improved particle filter for non-linear\n",
    "       problems, IEE Proc., Radar Sonar Navigation, 146:2–7\n",
    "\n"
   ]
  }
 ],
 "metadata": {
  "kernelspec": {
   "display_name": "Python 3",
   "language": "python",
   "name": "python3"
  },
  "language_info": {
   "codemirror_mode": {
    "name": "ipython",
    "version": 3
   },
   "file_extension": ".py",
   "mimetype": "text/x-python",
   "name": "python",
   "nbconvert_exporter": "python",
   "pygments_lexer": "ipython3",
   "version": "3.8.5"
  }
 },
 "nbformat": 4,
 "nbformat_minor": 4
}
