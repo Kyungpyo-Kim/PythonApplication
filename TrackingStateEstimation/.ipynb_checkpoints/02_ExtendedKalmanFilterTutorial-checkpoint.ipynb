{
 "cells": [
  {
   "cell_type": "code",
   "execution_count": 1,
   "metadata": {
    "collapsed": false,
    "jupyter": {
     "outputs_hidden": false
    }
   },
   "outputs": [],
   "source": [
    "%matplotlib inline"
   ]
  },
  {
   "cell_type": "markdown",
   "metadata": {},
   "source": [
    "\n",
    "# 2 - Non-linear models: extended Kalman filter\n"
   ]
  },
  {
   "cell_type": "markdown",
   "metadata": {},
   "source": [
    "As well as introducing various aspects of the Stone Soup framework, the previous tutorial\n",
    "detailed the use of a Kalman filter. A significant problem in using the Kalman filter is that it\n",
    "requires transition and sensor models to be linear-Gaussian. In practice, many models are not\n",
    "like this and so alternatives are required. We examine the most commonly-used of such\n",
    "alternatives, the extended Kalman filter [#]_ (EKF), in this tutorial.\n",
    "\n",
    "## Background\n",
    "\n",
    "Recall that the Kalman filter makes the following linear assumptions of the predicted state and\n",
    "predicted measurement:\n",
    "\n",
    "\\begin{align}\\mathbf{x}_{k|k-1} &= F_{k} \\mathbf{x}_{k-1} + B_{k}\\mathbf{u}_{k}\\\\\n",
    "      \\mathbf{z}_{k|k-1} &= H_{k} \\mathbf{x}_{k|k-1}\\end{align}\n",
    "\n",
    "The EKF gets round the fact that $f(\\cdot)$ and $h(\\cdot)$ are not of this form by\n",
    "making linear approximations about $\\mathbf{x}_{k−1} = \\boldsymbol{\\mu}_{k−1}$ or\n",
    "$\\mathbf{x}_{k|k−1} = \\boldsymbol{\\mu}_{k|k−1}$. It does this by way of a Taylor expansion,\n",
    "\n",
    "\\begin{align}g(\\mathbf{x})\\rvert_{\\mathbf{x}=\\boldsymbol{\\mu}} \\approx \\sum\\limits_{|\\alpha| \\ge 0}\n",
    "      \\frac{(\\mathbf{x} - \\boldsymbol{\\mu})^{\\alpha}}{\\alpha !}\n",
    "      (\\mathcal{D}^{\\alpha} g)(\\boldsymbol{\\mu})\\end{align}\n",
    "\n",
    "This is usually truncated after the first term, meaning that either\n",
    "$\\tilde{F}(\\mathbf{x}_{k-1}) \\approx J(f)\\rvert_{\\mathbf{x}=\\boldsymbol{\\mu}_{k-1}}$ or\n",
    "$\\tilde{H}(\\mathbf{x}_{k|k-1}) \\approx J(h)\\rvert_{\\mathbf{x}=\\boldsymbol{\\mu}_{k|k-1}}$\n",
    "or both, where $J(\\cdot)$ is the Jacobian matrix. The calculation of the covariances,\n",
    "including the innovation covariance, then proceeds in exactly the same way as in the Kalman\n",
    "filter using these approximations,\n",
    "\n",
    "\\begin{align}\\mathbf{x}_{k|k-1} &= f_{k}(\\mathbf{x}_{k-1}) \\\\\n",
    "      P_{k|k-1} &= \\tilde{F}_{k}P_{k-1}\\tilde{F}_{k}^T + Q_{k}\\\\\n",
    "      \\mathbf{x}_{k} &= \\mathbf{x}_{k|k-1} +\n",
    "                        \\tilde{K}_k(\\mathbf{z}_k - h_k(\\mathbf{x}_{k|k-1}))\\\\\n",
    "      P_{k} &= P_{k|k-1} - \\tilde{K}_k \\tilde{H}_{k} P_{k|k-1}\\\\\\end{align}\n",
    "\n",
    "where,\n",
    "\n",
    "\\begin{align}\\tilde{K}_k &= P_{k|k-1} \\tilde{H}_{k}^T \\tilde{S}_k^{-1}\\\\\n",
    "      \\tilde{S}_k &= \\tilde{H}_{k} P_{k|k-1} \\tilde{H}_{k}^T + R_{k}\\end{align}\n",
    "\n",
    "(we omit the control term in this analysis but it also can be incorporated as a non-linear\n",
    "approximation of the same form.)\n",
    "\n",
    "Stone Soup implements the EKF\n",
    "for non-linear functions using a finite difference method to find $J(\\cdot)$\n",
    "in the appropriate places. We'll now see this in action.\n",
    "\n"
   ]
  },
  {
   "cell_type": "markdown",
   "metadata": {},
   "source": [
    "## Nearly-constant velocity example\n",
    "\n",
    "We're going to use the same target model as previously, but this time we use a non-linear sensor\n",
    "model.\n",
    "\n"
   ]
  },
  {
   "cell_type": "code",
   "execution_count": 2,
   "metadata": {
    "collapsed": false,
    "jupyter": {
     "outputs_hidden": false
    }
   },
   "outputs": [],
   "source": [
    "import numpy as np\n",
    "from datetime import datetime, timedelta\n",
    "start_time = datetime.now()"
   ]
  },
  {
   "cell_type": "code",
   "execution_count": 3,
   "metadata": {
    "collapsed": false,
    "jupyter": {
     "outputs_hidden": false
    }
   },
   "outputs": [],
   "source": [
    "np.random.seed(1991)"
   ]
  },
  {
   "cell_type": "markdown",
   "metadata": {},
   "source": [
    "### Create a target\n",
    "\n",
    "As in the previous tutorial, the target moves with near constant velocity NE from 0,0.\n",
    "\n"
   ]
  },
  {
   "cell_type": "code",
   "execution_count": 4,
   "metadata": {
    "collapsed": false,
    "jupyter": {
     "outputs_hidden": false
    }
   },
   "outputs": [],
   "source": [
    "from stonesoup.models.transition.linear import CombinedLinearGaussianTransitionModel, \\\n",
    "    ConstantVelocity\n",
    "from stonesoup.types.groundtruth import GroundTruthPath, GroundTruthState\n",
    "transition_model = CombinedLinearGaussianTransitionModel([ConstantVelocity(0.05),\n",
    "                                                          ConstantVelocity(0.05)])\n",
    "truth = GroundTruthPath([GroundTruthState([0, 1, 0, 1], timestamp=start_time)])\n",
    "\n",
    "for k in range(1, 21):\n",
    "    truth.append(GroundTruthState(\n",
    "        transition_model.function(truth[k-1], noise=True, time_interval=timedelta(seconds=1)),\n",
    "        timestamp=start_time+timedelta(seconds=k)))"
   ]
  },
  {
   "cell_type": "markdown",
   "metadata": {},
   "source": [
    "Plot this\n",
    "\n"
   ]
  },
  {
   "cell_type": "code",
   "execution_count": 5,
   "metadata": {
    "collapsed": false,
    "jupyter": {
     "outputs_hidden": false
    }
   },
   "outputs": [
    {
     "data": {
      "image/png": "[encoded data removed]",
      "text/plain": [
       "<Figure size 720x432 with 1 Axes>"
      ]
     },
     "metadata": {
      "needs_background": "light"
     },
     "output_type": "display_data"
    }
   ],
   "source": [
    "from stonesoup.plotter import Plotter\n",
    "plotter = Plotter()\n",
    "plotter.plot_ground_truths(truth, [0, 2])"
   ]
  },
  {
   "cell_type": "markdown",
   "metadata": {},
   "source": [
    "### A bearing-range sensor\n",
    "\n",
    "We're going to simulate a 2d bearing-range sensor. An example of this is available in Stone Soup\n",
    "via the :class:`~.CartesianToBearingRange` class. As the name suggests, this takes the Cartesian\n",
    "state input and returns a relative bearing and range to target. Specifically,\n",
    "\n",
    "\\begin{align}\\begin{bmatrix}\n",
    "      \\theta\\\\\n",
    "      r\\\\\n",
    "      \\end{bmatrix}\n",
    "      =\n",
    "      \\begin{bmatrix}\n",
    "      \\arctan\\left(\\frac{y-y_p}{x-x_p}\\right)\\\\\n",
    "      \\sqrt{(x-x_p)^2 + (y-y_p)^2}\n",
    "      \\end{bmatrix}\\end{align}\n",
    "\n",
    "where $x_p,y_p$ is the 2d Cartesian position of the sensor and $x,y$ that of the\n",
    "target. Note also that the arctan function has to resolve the quadrant ambiguity and so is\n",
    "implemented as the :class:`~.numpy.arctan2`$(y,x)$ function in Python.\n",
    "\n"
   ]
  },
  {
   "cell_type": "code",
   "execution_count": 6,
   "metadata": {
    "collapsed": false,
    "jupyter": {
     "outputs_hidden": false
    }
   },
   "outputs": [],
   "source": [
    "from stonesoup.models.measurement.nonlinear import CartesianToBearingRange\n",
    "sensor_x = 50  # Placing the sensor off-centre\n",
    "sensor_y = 0\n",
    "\n",
    "measurement_model = CartesianToBearingRange(\n",
    "    ndim_state=4,\n",
    "    mapping=(0, 2),\n",
    "    noise_covar=np.diag([np.radians(0.2), 1]),  # Covariance matrix. 0.2 degree variance in\n",
    "    # bearing and 1 metre in range\n",
    "    translation_offset=np.array([[sensor_x], [sensor_y]])  # Offset measurements to location of\n",
    "    # sensor in cartesian.\n",
    ")"
   ]
  },
  {
   "cell_type": "markdown",
   "metadata": {},
   "source": [
    "We create a set of detections using this sensor model.\n",
    "\n"
   ]
  },
  {
   "cell_type": "code",
   "execution_count": 7,
   "metadata": {
    "collapsed": false,
    "jupyter": {
     "outputs_hidden": false
    }
   },
   "outputs": [],
   "source": [
    "from stonesoup.types.detection import Detection\n",
    "\n",
    "measurements = []\n",
    "for state in truth:\n",
    "    measurement = measurement_model.function(state, noise=True)\n",
    "    measurements.append(Detection(measurement, timestamp=state.timestamp,\n",
    "                                  measurement_model=measurement_model))"
   ]
  },
  {
   "cell_type": "markdown",
   "metadata": {},
   "source": [
    "Plot the measurements. Where the model is nonlinear the plotting function uses the inverse\n",
    "function to get coordinates.\n",
    "\n"
   ]
  },
  {
   "cell_type": "code",
   "execution_count": 8,
   "metadata": {
    "collapsed": false,
    "jupyter": {
     "outputs_hidden": false
    }
   },
   "outputs": [
    {
     "data": {
      "image/png": "[encoded data removed]",
      "text/plain": [
       "<Figure size 720x432 with 1 Axes>"
      ]
     },
     "execution_count": 8,
     "metadata": {},
     "output_type": "execute_result"
    }
   ],
   "source": [
    "plotter.plot_measurements(measurements, [0, 2])\n",
    "plotter.fig"
   ]
  },
  {
   "cell_type": "markdown",
   "metadata": {},
   "source": [
    "### Set up the extended Kalman filter elements\n",
    "\n",
    "Analogously to the Kalman filter, we now create the predictor and updater. As is our custom\n",
    "the predictor takes a transition model and the updater a measurement model. Note that if either\n",
    "of these models are linear then the extended predictor/updater defaults to its Kalman equivalent.\n",
    "In fact the extended Kalman filter classes inherit nearly all of their functionality from the\n",
    "Kalman classes. The only difference being that instead of returning a matrix, in the extended\n",
    "version the :meth:`~.MeasurementModel.matrix()` function returns the Jacobian.\n",
    "\n"
   ]
  },
  {
   "cell_type": "code",
   "execution_count": 9,
   "metadata": {
    "collapsed": false,
    "jupyter": {
     "outputs_hidden": false
    }
   },
   "outputs": [],
   "source": [
    "from stonesoup.predictor.kalman import ExtendedKalmanPredictor\n",
    "predictor = ExtendedKalmanPredictor(transition_model)\n",
    "\n",
    "from stonesoup.updater.kalman import ExtendedKalmanUpdater\n",
    "updater = ExtendedKalmanUpdater(measurement_model)"
   ]
  },
  {
   "cell_type": "markdown",
   "metadata": {},
   "source": [
    "### Run the extended Kalman filter\n",
    "First, we'll create a prior state.\n",
    "\n"
   ]
  },
  {
   "cell_type": "code",
   "execution_count": 10,
   "metadata": {
    "collapsed": false,
    "jupyter": {
     "outputs_hidden": false
    }
   },
   "outputs": [],
   "source": [
    "from stonesoup.types.state import GaussianState\n",
    "prior = GaussianState([[0], [1], [0], [1]], np.diag([1.5, 0.5, 1.5, 0.5]), timestamp=start_time)"
   ]
  },
  {
   "cell_type": "markdown",
   "metadata": {},
   "source": [
    "Next iterate over hypotheses and place in a track.\n",
    "\n"
   ]
  },
  {
   "cell_type": "code",
   "execution_count": 11,
   "metadata": {
    "collapsed": false,
    "jupyter": {
     "outputs_hidden": false
    }
   },
   "outputs": [],
   "source": [
    "from stonesoup.types.hypothesis import SingleHypothesis\n",
    "from stonesoup.types.track import Track\n",
    "\n",
    "track = Track()\n",
    "for measurement in measurements:\n",
    "    prediction = predictor.predict(prior, timestamp=measurement.timestamp)\n",
    "    hypothesis = SingleHypothesis(prediction, measurement)  # Group a prediction and measurement\n",
    "    post = updater.update(hypothesis)\n",
    "    track.append(post)\n",
    "    prior = track[-1]"
   ]
  },
  {
   "cell_type": "markdown",
   "metadata": {},
   "source": [
    "Plot the resulting track complete with error ellipses at each estimate.\n",
    "\n"
   ]
  },
  {
   "cell_type": "code",
   "execution_count": 12,
   "metadata": {
    "collapsed": false,
    "jupyter": {
     "outputs_hidden": false
    }
   },
   "outputs": [
    {
     "data": {
      "image/png": "[encoded data removed]",
      "text/plain": [
       "<Figure size 720x432 with 1 Axes>"
      ]
     },
     "execution_count": 12,
     "metadata": {},
     "output_type": "execute_result"
    }
   ],
   "source": [
    "plotter.plot_tracks(track, [0, 2], uncertainty=True)\n",
    "plotter.fig"
   ]
  },
  {
   "cell_type": "markdown",
   "metadata": {},
   "source": [
    "## Key points\n",
    "1. Non-linear models can be incorporated into the tracking scheme through the use of the\n",
    "   appropriate combination of :class:`~.Predictor`/:class:`~.TransitionModel` or\n",
    "   :class:`~.Updater`/:class:`~.MeasurementModel`\n",
    "2. Because Stone Soup uses inheritance, the amount of engineering required to achieve this is\n",
    "   minimal and the interface is the same. A user can apply the EKF components in exactly the same\n",
    "   way as the KF.\n",
    "\n"
   ]
  },
  {
   "cell_type": "markdown",
   "metadata": {},
   "source": [
    "The first order approximations used by the EKF provide a simple way to handle non-linear tracking\n",
    "problems. However, in highly non-linear systems these simplifications can lead to large errors in\n",
    "both the posterior state mean and covariance. In instances where we have noisy transition, or\n",
    "perhaps unreliable measurement, this could lead to a sub-optimal performance or even divergence\n",
    "of the filter. In the next tutorial, we see how the **unscented Kalman filter** can begin to\n",
    "addresses these issues.\n",
    "\n"
   ]
  },
  {
   "cell_type": "markdown",
   "metadata": {},
   "source": [
    "## References\n",
    ".. [#] Anderson & Moore 2012, Optimal filtering,\n",
    "       (http://users.cecs.anu.edu.au/~john/papers/BOOK/B02.PDF)\n",
    "\n"
   ]
  }
 ],
 "metadata": {
  "kernelspec": {
   "display_name": "Python 3",
   "language": "python",
   "name": "python3"
  },
  "language_info": {
   "codemirror_mode": {
    "name": "ipython",
    "version": 3
   },
   "file_extension": ".py",
   "mimetype": "text/x-python",
   "name": "python",
   "nbconvert_exporter": "python",
   "pygments_lexer": "ipython3",
   "version": "3.8.5"
  }
 },
 "nbformat": 4,
 "nbformat_minor": 4
}
