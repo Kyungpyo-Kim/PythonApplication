{
 "cells": [
  {
   "cell_type": "code",
   "execution_count": 1,
   "metadata": {
    "collapsed": false,
    "jupyter": {
     "outputs_hidden": false
    }
   },
   "outputs": [],
   "source": [
    "%matplotlib inline"
   ]
  },
  {
   "cell_type": "markdown",
   "metadata": {},
   "source": [
    "\n",
    "# 9 - Initiators & Deleters\n",
    "So far we have provided a prior in all our examples, defining where we think our tracks will start.\n",
    "This has also been for a fixed number of tracks. In practice, targets may appear and disappear\n",
    "all the time. This could be because they enter/exit the sensor's field of view.\n",
    "The location/state of the targets' birth may also be unknown and varying.\n"
   ]
  },
  {
   "cell_type": "markdown",
   "metadata": {},
   "source": [
    "## Simulating multiple targets\n",
    "Here we'll simulate multiple targets moving at a constant velocity. A Poisson distribution will\n",
    "be used to sample the number of new targets which are born at a particular timestep, and a simple\n",
    "draw from a uniform distribution will be used to decide if a target will be removed. Each target\n",
    "will have a random position and velocity on birth.\n",
    "\n"
   ]
  },
  {
   "cell_type": "code",
   "execution_count": 2,
   "metadata": {
    "collapsed": false,
    "jupyter": {
     "outputs_hidden": false
    }
   },
   "outputs": [
    {
     "data": {
      "image/png": "[encoded data removed]",
      "text/plain": [
       "<Figure size 720x432 with 1 Axes>"
      ]
     },
     "metadata": {
      "needs_background": "light"
     },
     "output_type": "display_data"
    }
   ],
   "source": [
    "from datetime import datetime\n",
    "from datetime import timedelta\n",
    "\n",
    "import numpy as np\n",
    "\n",
    "from stonesoup.models.transition.linear import CombinedLinearGaussianTransitionModel, \\\n",
    "                                               ConstantVelocity\n",
    "from stonesoup.types.groundtruth import GroundTruthPath, GroundTruthState\n",
    "\n",
    "np.random.seed(1991)\n",
    "\n",
    "start_time = datetime.now()\n",
    "truths = set()  # Truths across all time\n",
    "current_truths = set()  # Truths alive at current time\n",
    "\n",
    "transition_model = CombinedLinearGaussianTransitionModel([ConstantVelocity(0.005),\n",
    "                                                          ConstantVelocity(0.005)])\n",
    "\n",
    "for k in range(20):\n",
    "    # Death\n",
    "    for truth in current_truths.copy():\n",
    "        if np.random.rand() <= 0.05:  # Death probability\n",
    "            current_truths.remove(truth)\n",
    "    # Update truths\n",
    "    for truth in current_truths:\n",
    "        truth.append(GroundTruthState(\n",
    "            transition_model.function(truth[-1], noise=True, time_interval=timedelta(seconds=1)),\n",
    "            timestamp=start_time + timedelta(seconds=k)))\n",
    "    # Birth\n",
    "    for _ in range(np.random.poisson(0.6)):  # Birth probability\n",
    "        x, y = initial_position = np.random.rand(2) * [20, 20]  # Range [0, 20] for x and y\n",
    "        x_vel, y_vel = (np.random.rand(2))*2 - 1  # Range [-1, 1] for x and y velocity\n",
    "        state = GroundTruthState([x, x_vel, y, y_vel], timestamp=start_time + timedelta(seconds=k))\n",
    "\n",
    "        # Add to truth set for current and for all timestamps\n",
    "        truth = GroundTruthPath([state])\n",
    "        current_truths.add(truth)\n",
    "        truths.add(truth)\n",
    "\n",
    "from stonesoup.plotter import Plotter\n",
    "plotter = Plotter()\n",
    "plotter.ax.set_ylim(-5, 25)\n",
    "plotter.plot_ground_truths(truths, [0, 2])"
   ]
  },
  {
   "cell_type": "markdown",
   "metadata": {},
   "source": [
    "## Generate Detections and Clutter\n",
    "Next, generate detections with clutter just as in the previous tutorials, skipping over the truth\n",
    "paths that weren't alive at the current time step.\n",
    "\n"
   ]
  },
  {
   "cell_type": "code",
   "execution_count": 3,
   "metadata": {
    "collapsed": false,
    "jupyter": {
     "outputs_hidden": false
    }
   },
   "outputs": [
    {
     "data": {
      "image/png": "[encoded data removed]",
      "text/plain": [
       "<Figure size 720x432 with 1 Axes>"
      ]
     },
     "execution_count": 3,
     "metadata": {},
     "output_type": "execute_result"
    }
   ],
   "source": [
    "from scipy.stats import uniform\n",
    "from stonesoup.types.detection import TrueDetection\n",
    "from stonesoup.types.detection import Clutter\n",
    "from stonesoup.models.measurement.linear import LinearGaussian\n",
    "measurement_model = LinearGaussian(\n",
    "    ndim_state=4,\n",
    "    mapping=(0, 2),\n",
    "    noise_covar=np.array([[0.25, 0],\n",
    "                          [0, 0.25]])\n",
    "    )\n",
    "all_measurements = []\n",
    "\n",
    "for k in range(20):\n",
    "    measurement_set = set()\n",
    "    timestamp = start_time + timedelta(seconds=k)\n",
    "\n",
    "    for truth in truths:\n",
    "        try:\n",
    "            truth_state = truth[timestamp]\n",
    "        except IndexError:\n",
    "            # This truth not alive at this time.\n",
    "            continue\n",
    "        # Generate actual detection from the state with a 10% chance that no detection is received.\n",
    "        if np.random.rand() <= 0.9:\n",
    "            # Generate actual detection from the state\n",
    "            measurement = measurement_model.function(truth_state, noise=True)\n",
    "            measurement_set.add(TrueDetection(state_vector=measurement,\n",
    "                                              groundtruth_path=truth,\n",
    "                                              timestamp=truth_state.timestamp,\n",
    "                                              measurement_model=measurement_model))\n",
    "\n",
    "            # Generate clutter at this time-step\n",
    "            truth_x = truth_state.state_vector[0]\n",
    "            truth_y = truth_state.state_vector[2]\n",
    "            for _ in range(np.random.randint(2)):\n",
    "                x = uniform.rvs(truth_x - 10, 20)\n",
    "                y = uniform.rvs(truth_y - 10, 20)\n",
    "                measurement_set.add(Clutter(np.array([[x], [y]]), timestamp=timestamp,\n",
    "                                            measurement_model=measurement_model))\n",
    "    all_measurements.append(measurement_set)\n",
    "\n",
    "# Plot true detections and clutter.\n",
    "plotter.plot_measurements(all_measurements, [0, 2], color='g')\n",
    "plotter.fig"
   ]
  },
  {
   "cell_type": "markdown",
   "metadata": {},
   "source": [
    "## Creating a Tracker\n",
    "We'll now create the tracker components as we did with the multi-target examples previously.\n",
    "\n"
   ]
  },
  {
   "cell_type": "code",
   "execution_count": 4,
   "metadata": {
    "collapsed": false,
    "jupyter": {
     "outputs_hidden": false
    }
   },
   "outputs": [],
   "source": [
    "from stonesoup.predictor.kalman import KalmanPredictor\n",
    "predictor = KalmanPredictor(transition_model)\n",
    "\n",
    "from stonesoup.updater.kalman import KalmanUpdater\n",
    "updater = KalmanUpdater(measurement_model)\n",
    "\n",
    "from stonesoup.hypothesiser.distance import DistanceHypothesiser\n",
    "from stonesoup.measures import Mahalanobis\n",
    "hypothesiser = DistanceHypothesiser(predictor, updater, measure=Mahalanobis(), missed_distance=3)\n",
    "\n",
    "from stonesoup.dataassociator.neighbour import GNNWith2DAssignment\n",
    "data_associator = GNNWith2DAssignment(hypothesiser)"
   ]
  },
  {
   "cell_type": "markdown",
   "metadata": {},
   "source": [
    "## Creating a Deleter\n",
    "Here we are going to create an error based deleter, which will delete any :class:`~.Track` where\n",
    "trace of the covariance is over a certain threshold, i.e. when we have a high uncertainty. This\n",
    "simply requires a threshold to be defined, which will depend on units and number of dimensions of\n",
    "your state vector. So the higher the threshold value, the longer tracks that haven't been\n",
    "updated will remain.\n",
    "\n"
   ]
  },
  {
   "cell_type": "code",
   "execution_count": 5,
   "metadata": {
    "collapsed": false,
    "jupyter": {
     "outputs_hidden": false
    }
   },
   "outputs": [],
   "source": [
    "from stonesoup.deleter.error import CovarianceBasedDeleter\n",
    "deleter = CovarianceBasedDeleter(4)"
   ]
  },
  {
   "cell_type": "markdown",
   "metadata": {},
   "source": [
    "## Creating an Initiator\n",
    "Here we are going to use a measurement based initiator, which will create a track from the\n",
    "unassociated :class:`~.Detection` objects. A prior needs to be defined for the entire state\n",
    "but elements of the state that are measured are replaced by state of the measurement, including\n",
    "the measurement's uncertainty (noise covariance defined by the :class:`~.MeasurementModel`). In\n",
    "this example, as our sensor measures position (as defined in measurement model\n",
    ":attr:`~.LinearGaussian.mapping` attribute earlier), we only need to modify the values for the\n",
    "velocity and its variance.\n",
    "\n",
    "As we are dealing with clutter, here we are going to be using a multi-measurement initiator. This\n",
    "requires that multiple measurements are added to a track before being initiated. In this example,\n",
    "this initiator effectively runs a mini version of the same tracker, but you could use different\n",
    "components.\n",
    "\n"
   ]
  },
  {
   "cell_type": "code",
   "execution_count": 6,
   "metadata": {
    "collapsed": false,
    "jupyter": {
     "outputs_hidden": false
    }
   },
   "outputs": [],
   "source": [
    "from stonesoup.types.state import GaussianState\n",
    "from stonesoup.initiator.simple import MultiMeasurementInitiator\n",
    "initiator = MultiMeasurementInitiator(\n",
    "    prior_state=GaussianState([[0], [0], [0], [0]], np.diag([0, 1, 0, 1])),\n",
    "    measurement_model=measurement_model,\n",
    "    deleter=deleter,\n",
    "    data_associator=data_associator,\n",
    "    updater=updater,\n",
    "    min_points=2,\n",
    "    )"
   ]
  },
  {
   "cell_type": "markdown",
   "metadata": {},
   "source": [
    "## Running the Tracker\n",
    "Loop through the predict, hypothesise, associate and update steps like before, but note on update\n",
    "which detections we've used at each time step. In each loop the deleter is called, returning\n",
    "tracks that are to be removed. Then the initiator is called with the unassociated detections, by\n",
    "removing the associated detections from the full set. The order of the deletion and initiation is\n",
    "important, so tracks that have just been created, aren't deleted straight away. (The\n",
    "implementation below is the same as :class:`~.MultiTargetTracker`)\n",
    "\n"
   ]
  },
  {
   "cell_type": "code",
   "execution_count": 7,
   "metadata": {
    "collapsed": false,
    "jupyter": {
     "outputs_hidden": false
    }
   },
   "outputs": [],
   "source": [
    "tracks = set()\n",
    "\n",
    "for n, measurements in enumerate(all_measurements):\n",
    "    # Calculate all hypothesis pairs and associate the elements in the best subset to the tracks.\n",
    "    hypotheses = data_associator.associate(tracks,\n",
    "                                           measurements,\n",
    "                                           start_time + timedelta(seconds=n))\n",
    "    associated_measurements = set()\n",
    "    for track in tracks:\n",
    "        hypothesis = hypotheses[track]\n",
    "        if hypothesis.measurement:\n",
    "            post = updater.update(hypothesis)\n",
    "            track.append(post)\n",
    "            associated_measurements.add(hypothesis.measurement)\n",
    "        else:  # When data associator says no detections are good enough, we'll keep the prediction\n",
    "            track.append(hypothesis.prediction)\n",
    "\n",
    "    # Carry out deletion and initiation\n",
    "    tracks -= deleter.delete_tracks(tracks)\n",
    "    tracks |= initiator.initiate(measurements - associated_measurements)"
   ]
  },
  {
   "cell_type": "markdown",
   "metadata": {},
   "source": [
    "Plot the resulting tracks.\n",
    "\n"
   ]
  },
  {
   "cell_type": "code",
   "execution_count": 8,
   "metadata": {
    "collapsed": false,
    "jupyter": {
     "outputs_hidden": false
    }
   },
   "outputs": [
    {
     "data": {
      "image/png": "[encoded data removed]",
      "text/plain": [
       "<Figure size 720x432 with 1 Axes>"
      ]
     },
     "execution_count": 8,
     "metadata": {},
     "output_type": "execute_result"
    }
   ],
   "source": [
    "plotter.plot_tracks(tracks, [0, 2], uncertainty=True)\n",
    "plotter.fig"
   ]
  }
 ],
 "metadata": {
  "kernelspec": {
   "display_name": "Python 3",
   "language": "python",
   "name": "python3"
  },
  "language_info": {
   "codemirror_mode": {
    "name": "ipython",
    "version": 3
   },
   "file_extension": ".py",
   "mimetype": "text/x-python",
   "name": "python",
   "nbconvert_exporter": "python",
   "pygments_lexer": "ipython3",
   "version": "3.8.5"
  }
 },
 "nbformat": 4,
 "nbformat_minor": 4
}
