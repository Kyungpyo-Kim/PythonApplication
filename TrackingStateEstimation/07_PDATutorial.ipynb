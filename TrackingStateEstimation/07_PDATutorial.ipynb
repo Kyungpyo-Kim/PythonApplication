{
 "cells": [
  {
   "cell_type": "code",
   "execution_count": 1,
   "metadata": {
    "collapsed": false,
    "jupyter": {
     "outputs_hidden": false
    }
   },
   "outputs": [],
   "source": [
    "%matplotlib inline"
   ]
  },
  {
   "cell_type": "markdown",
   "metadata": {},
   "source": [
    "\n",
    "# 7 - Probabilistic data association tutorial\n"
   ]
  },
  {
   "cell_type": "markdown",
   "metadata": {},
   "source": [
    "Making an assignment between a single track and a single measurement can be problematic. In the\n",
    "previous tutorials you may have encountered the phenomenon of *track seduction*. This occurs\n",
    "when clutter, or other track, points are mis-associated with a prediction. If this happens\n",
    "repeatedly (as can be the case in high-clutter or low-$p_d$ situations) the track can\n",
    "deviate significantly from the truth.\n",
    "\n",
    "Rather than make a firm assignment at each time-step, we could work out the probability that each\n",
    "measurement should be assigned to a particular target. We could then propagate a measure of\n",
    "these collective probabilities to mitigate the effect of track seduction.\n",
    "\n",
    "Pictorially:\n",
    "\n",
    "- Calculate a posterior for each hypothesis;\n",
    "\n",
    "<img src=\"https://stonesoup.rtfd.io/en/latest/_static/PDA_Hypothesis_Diagram.png\" width=\"500\" alt=\"Image showing NN association for one track\">\n",
    "\n",
    "- Weight each posterior state according to the probability that its corresponding hypothesis\n",
    "  was true (including the probability of missed-detection);\n",
    "\n",
    "<img src=\"https://stonesoup.rtfd.io/en/latest/_static/PDA_Weighting_Diagram.png\" width=\"500\" alt=\"Image showing NN association for one track\">\n",
    "\n",
    "- Merge the resulting estimate states in to a single posterior approximation.\n",
    "\n",
    "<img src=\"https://stonesoup.rtfd.io/en/latest/_static/PDA_Merge_Diagram.png\" width=\"500\" alt=\"Image showing NN association for one track\">\n",
    "\n",
    "This results in a more robust approximation to the posterior state covariances that incorporates\n",
    "not only the uncertainty in state, but also in the association.\n",
    "\n"
   ]
  },
  {
   "cell_type": "markdown",
   "metadata": {},
   "source": [
    "## A PDA filter example\n",
    "\n",
    "### Ground truth\n",
    "\n",
    "So, as before, we'll first begin by simulating some ground truth.\n",
    "\n"
   ]
  },
  {
   "cell_type": "code",
   "execution_count": 2,
   "metadata": {
    "collapsed": false,
    "jupyter": {
     "outputs_hidden": false
    }
   },
   "outputs": [],
   "source": [
    "import numpy as np\n",
    "\n",
    "from datetime import datetime\n",
    "from datetime import timedelta\n",
    "\n",
    "from stonesoup.models.transition.linear import CombinedLinearGaussianTransitionModel, \\\n",
    "                                               ConstantVelocity\n",
    "from stonesoup.types.groundtruth import GroundTruthPath, GroundTruthState\n",
    "\n",
    "np.random.seed(1991)\n",
    "\n",
    "start_time = datetime.now()\n",
    "transition_model = CombinedLinearGaussianTransitionModel([ConstantVelocity(0.005),\n",
    "                                                          ConstantVelocity(0.005)])\n",
    "truth = GroundTruthPath([GroundTruthState([0, 1, 0, 1], timestamp=start_time)])\n",
    "for k in range(1, 21):\n",
    "    truth.append(GroundTruthState(\n",
    "        transition_model.function(truth[k-1], noise=True, time_interval=timedelta(seconds=1)),\n",
    "        timestamp=start_time+timedelta(seconds=k)))"
   ]
  },
  {
   "cell_type": "markdown",
   "metadata": {},
   "source": [
    "Add clutter.\n",
    "\n"
   ]
  },
  {
   "cell_type": "code",
   "execution_count": 3,
   "metadata": {
    "collapsed": false,
    "jupyter": {
     "outputs_hidden": false
    }
   },
   "outputs": [],
   "source": [
    "from scipy.stats import uniform\n",
    "\n",
    "from stonesoup.types.detection import TrueDetection\n",
    "from stonesoup.types.detection import Clutter\n",
    "from stonesoup.models.measurement.linear import LinearGaussian\n",
    "measurement_model = LinearGaussian(\n",
    "    ndim_state=4,\n",
    "    mapping=(0, 2),\n",
    "    noise_covar=np.array([[0.75, 0],\n",
    "                          [0, 0.75]])\n",
    "    )\n",
    "\n",
    "prob_detect = 0.9  # 90% chance of detection.\n",
    "\n",
    "all_measurements = []\n",
    "for state in truth:\n",
    "    measurement_set = set()\n",
    "\n",
    "    # Generate detection.\n",
    "    if np.random.rand() <= prob_detect:\n",
    "        measurement = measurement_model.function(state, noise=True)\n",
    "        measurement_set.add(TrueDetection(state_vector=measurement,\n",
    "                                          groundtruth_path=truth,\n",
    "                                          timestamp=state.timestamp,\n",
    "                                          measurement_model=measurement_model))\n",
    "\n",
    "    # Generate clutter.\n",
    "    truth_x = state.state_vector[0]\n",
    "    truth_y = state.state_vector[2]\n",
    "    for _ in range(np.random.randint(10)):\n",
    "        x = uniform.rvs(truth_x - 10, 20)\n",
    "        y = uniform.rvs(truth_y - 10, 20)\n",
    "        measurement_set.add(Clutter(np.array([[x], [y]]), timestamp=state.timestamp,\n",
    "                                    measurement_model=measurement_model))\n",
    "\n",
    "    all_measurements.append(measurement_set)"
   ]
  },
  {
   "cell_type": "markdown",
   "metadata": {},
   "source": [
    "Plot the ground truth and measurements with clutter.\n",
    "\n"
   ]
  },
  {
   "cell_type": "code",
   "execution_count": 4,
   "metadata": {
    "collapsed": false,
    "jupyter": {
     "outputs_hidden": false
    }
   },
   "outputs": [
    {
     "data": {
      "image/png": "[encoded data removed]",
      "text/plain": [
       "<Figure size 720x432 with 1 Axes>"
      ]
     },
     "metadata": {
      "needs_background": "light"
     },
     "output_type": "display_data"
    }
   ],
   "source": [
    "from stonesoup.plotter import Plotter\n",
    "plotter = Plotter()\n",
    "plotter.ax.set_ylim(0, 25)\n",
    "plotter.plot_ground_truths(truth, [0, 2])\n",
    "\n",
    "# Plot true detections and clutter.\n",
    "plotter.plot_measurements(all_measurements, [0, 2])"
   ]
  },
  {
   "cell_type": "markdown",
   "metadata": {},
   "source": [
    "Create the predictor and updater\n",
    "\n"
   ]
  },
  {
   "cell_type": "code",
   "execution_count": 5,
   "metadata": {
    "collapsed": false,
    "jupyter": {
     "outputs_hidden": false
    }
   },
   "outputs": [],
   "source": [
    "from stonesoup.predictor.kalman import KalmanPredictor\n",
    "predictor = KalmanPredictor(transition_model)\n",
    "\n",
    "from stonesoup.updater.kalman import KalmanUpdater\n",
    "updater = KalmanUpdater(measurement_model)"
   ]
  },
  {
   "cell_type": "markdown",
   "metadata": {},
   "source": [
    "### Initialise Probabilistic Data Associator\n",
    "The :class:`~.PDAHypothesiser` and :class:`~.PDA` associator generate track predictions and\n",
    "calculate probabilities for all prediction-detection pairs for a single prediction and multiple\n",
    "detections.\n",
    "The :class:`~.PDAHypothesiser` returns a collection of :class:`~.SingleProbabilityHypothesis`\n",
    "types. The :class:`~.PDA` takes these hypotheses and returns a dictionary of key-value pairings\n",
    "of each track and detection which it is to be associated with.\n",
    "\n"
   ]
  },
  {
   "cell_type": "code",
   "execution_count": 6,
   "metadata": {
    "collapsed": false,
    "jupyter": {
     "outputs_hidden": false
    }
   },
   "outputs": [],
   "source": [
    "from stonesoup.hypothesiser.probability import PDAHypothesiser\n",
    "hypothesiser = PDAHypothesiser(predictor=predictor,\n",
    "                               updater=updater,\n",
    "                               clutter_spatial_density=0.125,\n",
    "                               prob_detect=prob_detect)\n",
    "\n",
    "from stonesoup.dataassociator.probability import PDA\n",
    "data_associator = PDA(hypothesiser=hypothesiser)"
   ]
  },
  {
   "cell_type": "markdown",
   "metadata": {},
   "source": [
    "### Run the PDA Filter\n",
    "\n",
    "With these components, we can run the simulated data and clutter through the Kalman filter.\n",
    "\n"
   ]
  },
  {
   "cell_type": "code",
   "execution_count": 7,
   "metadata": {
    "collapsed": false,
    "jupyter": {
     "outputs_hidden": false
    }
   },
   "outputs": [],
   "source": [
    "# Create prior\n",
    "from stonesoup.types.state import GaussianState\n",
    "prior = GaussianState([[0], [1], [0], [1]], np.diag([1.5, 0.5, 1.5, 0.5]), timestamp=start_time)\n",
    "\n",
    "# Loop through the predict, hypothesise, associate and update steps.\n",
    "from stonesoup.types.track import Track\n",
    "from stonesoup.types.array import StateVectors  # For storing state vectors during association\n",
    "from stonesoup.functions import gm_reduce_single  # For merging states to get posterior estimate\n",
    "from stonesoup.types.update import GaussianStateUpdate  # To store posterior estimate\n",
    "\n",
    "track = Track([prior])\n",
    "for n, measurements in enumerate(all_measurements):\n",
    "    hypotheses = data_associator.associate([track],\n",
    "                                           measurements,\n",
    "                                           start_time + timedelta(seconds=n))\n",
    "\n",
    "    hypotheses = hypotheses[track]\n",
    "\n",
    "    # Loop through each hypothesis, creating posterior states for each, and merge to calculate\n",
    "    # approximation to actual posterior state mean and covariance.\n",
    "    posterior_states = []\n",
    "    posterior_state_weights = []\n",
    "    for hypothesis in hypotheses:\n",
    "        if not hypothesis:\n",
    "            posterior_states.append(hypothesis.prediction)\n",
    "        else:\n",
    "            posterior_state = updater.update(hypothesis)\n",
    "            posterior_states.append(posterior_state)\n",
    "        posterior_state_weights.append(\n",
    "            hypothesis.probability)\n",
    "\n",
    "    means = StateVectors([state.state_vector for state in posterior_states])\n",
    "    covars = np.stack([state.covar for state in posterior_states], axis=2)\n",
    "    weights = np.asarray(posterior_state_weights)\n",
    "\n",
    "    # Reduce mixture of states to one posterior estimate Gaussian.\n",
    "    post_mean, post_covar = gm_reduce_single(means, covars, weights)\n",
    "\n",
    "    # Add a Gaussian state approximation to the track.\n",
    "    track.append(GaussianStateUpdate(\n",
    "        post_mean, post_covar,\n",
    "        hypotheses,\n",
    "        hypotheses[0].measurement.timestamp))"
   ]
  },
  {
   "cell_type": "markdown",
   "metadata": {},
   "source": [
    "Plot the resulting track\n",
    "\n"
   ]
  },
  {
   "cell_type": "code",
   "execution_count": 8,
   "metadata": {
    "collapsed": false,
    "jupyter": {
     "outputs_hidden": false
    }
   },
   "outputs": [
    {
     "data": {
      "image/png": "[encoded data removed]",
      "text/plain": [
       "<Figure size 720x432 with 1 Axes>"
      ]
     },
     "execution_count": 8,
     "metadata": {},
     "output_type": "execute_result"
    }
   ],
   "source": [
    "plotter.plot_tracks(track, [0, 2], uncertainty=True)\n",
    "plotter.fig"
   ]
  },
  {
   "cell_type": "markdown",
   "metadata": {},
   "source": [
    "## References\n",
    "1. Bar-Shalom Y, Daum F, Huang F 2009, The Probabilistic Data Association Filter, IEEE Control\n",
    "Systems Magazine\n",
    "\n"
   ]
  }
 ],
 "metadata": {
  "kernelspec": {
   "display_name": "Python 3",
   "language": "python",
   "name": "python3"
  },
  "language_info": {
   "codemirror_mode": {
    "name": "ipython",
    "version": 3
   },
   "file_extension": ".py",
   "mimetype": "text/x-python",
   "name": "python",
   "nbconvert_exporter": "python",
   "pygments_lexer": "ipython3",
   "version": "3.8.5"
  }
 },
 "nbformat": 4,
 "nbformat_minor": 4
}
