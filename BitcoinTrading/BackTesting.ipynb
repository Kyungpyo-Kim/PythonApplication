{
 "cells": [
  {
   "cell_type": "code",
   "execution_count": 1,
   "metadata": {},
   "outputs": [
    {
     "output_type": "stream",
     "name": "stdout",
     "text": [
      "0.1 0.008529\n",
      "0.2 0.048746\n",
      "0.3 0.167791\n",
      "0.4 1.030977\n",
      "0.5 2.144039\n",
      "0.6 4.924765\n",
      "0.7 5.718025\n",
      "0.8 5.969936\n",
      "0.9 4.004160\n",
      "                           open        high         low       close  \\\n",
      "time                                                                  \n",
      "2021-04-09 00:00:00  74313000.0  75986000.0  73154000.0  75471000.0   \n",
      "2021-04-10 00:00:00  75443000.0  79154000.0  75000000.0  78514000.0   \n",
      "2021-04-11 00:00:00  78480000.0  79100000.0  76300000.0  77688000.0   \n",
      "2021-04-12 00:00:00  77646000.0  78900000.0  77281000.0  78106000.0   \n",
      "2021-04-13 07:00:00  78119000.0  78400000.0  77770000.0  78168000.0   \n",
      "\n",
      "                          volume      range  range_shift1      target  \\\n",
      "time                                                                    \n",
      "2021-04-09 00:00:00  4106.284156  1416000.0     2139000.0  76452000.0   \n",
      "2021-04-10 00:00:00  3855.943855  2077000.0     1416000.0  76859000.0   \n",
      "2021-04-11 00:00:00  3713.849876  1400000.0     2077000.0  80557000.0   \n",
      "2021-04-12 00:00:00  2916.377826   809500.0     1400000.0  79046000.0   \n",
      "2021-04-13 07:00:00   477.375771   315000.0      809500.0  78928500.0   \n",
      "\n",
      "                          ror       hpr  \n",
      "time                                     \n",
      "2021-04-09 00:00:00  1.000000  2.105440  \n",
      "2021-04-10 00:00:00  1.018333  2.144039  \n",
      "2021-04-11 00:00:00  1.000000  2.144039  \n",
      "2021-04-12 00:00:00  1.000000  2.144039  \n",
      "2021-04-13 07:00:00  1.000000  2.144039  \n"
     ]
    }
   ],
   "source": [
    "import pybithumb\n",
    "import numpy as np\n",
    "\n",
    "def get_ror(k = 0.5, fee=0.0032):\n",
    "    df = pybithumb.get_ohlcv(\"BTC\")\n",
    "    df['range'] = (df['high'] - df['low']) * k\n",
    "    df['range_shift1'] = df['range'].shift(1)\n",
    "    df['target'] = df['open'] + df['range_shift1']\n",
    "\n",
    "    df['ror'] = np.where(df['high'] > df['target'], \n",
    "                         df['close'] / df['target'] -fee,\n",
    "                         1)\n",
    "    ror = df['ror'].cumprod()[-2]\n",
    "    return ror\n",
    "\n",
    "for k in np.arange(0.1, 1.0, 0.1):\n",
    "    ror = get_ror(k)\n",
    "    print(\"%.1f %f\" % (k, ror))\n",
    "\n",
    "\n",
    "df = pybithumb.get_ohlcv(\"BTC\")\n",
    "df['range'] = (df['high'] - df['low']) * 0.5\n",
    "df['range_shift1'] = df['range'].shift(1)\n",
    "df['target'] = df['open'] + df['range_shift1']\n",
    "\n",
    "df['ror'] = np.where(df['high'] > df['target'], \n",
    "                     df['close'] / df['target'] -0.0032,\n",
    "                     1)\n",
    "\n",
    "ror = df['ror'].cumprod()[-2]\n",
    "df['hpr'] = df['ror'].cumprod()\n",
    "print(df.tail())\n",
    "df.to_excel(\"btc.xlsx\")"
   ]
  },
  {
   "cell_type": "code",
   "execution_count": 3,
   "metadata": {},
   "outputs": [
    {
     "output_type": "stream",
     "name": "stdout",
     "text": [
      "MDD:  41.07120419932468\nHPR:  17.33278445939211\n"
     ]
    }
   ],
   "source": [
    "import pybithumb\n",
    "import numpy as np\n",
    "\n",
    "df = pybithumb.get_ohlcv(\"BTC\")\n",
    "\n",
    "df['ma5'] = df['close'].rolling(window=5).mean().shift(1)\n",
    "df['range'] = (df['high'] - df['low']) * 0.5\n",
    "df['target'] = df['open'] + df['range'].shift(1)\n",
    "df['bull'] = df['open'] > df['ma5']\n",
    "\n",
    "fee = 0.0032\n",
    "df['ror'] = np.where((df['high'] > df['target']) & df['bull'],\n",
    "                  df['close'] / df['target'] - fee,\n",
    "                  1)\n",
    "\n",
    "df['hpr'] = df['ror'].cumprod()\n",
    "df['dd'] = (df['hpr'].cummax() - df['hpr']) / df['hpr'].cummax() * 100\n",
    "print(\"MDD: \", df['dd'].max())\n",
    "print(\"HPR: \", df['hpr'][-2])\n",
    "df.to_excel(\"larry_ma.xlsx\")"
   ]
  },
  {
   "cell_type": "code",
   "execution_count": 4,
   "metadata": {},
   "outputs": [
    {
     "output_type": "stream",
     "name": "stdout",
     "text": [
      "[('REP', 8.40193145161698), ('POWR', 5.65256529365624), ('SNT', 4.0216481243550755), ('LRC', 2.9260451669193657), ('XRP', 2.469533973902334)]\n"
     ]
    }
   ],
   "source": [
    "import pybithumb\n",
    "import numpy as np\n",
    "\n",
    "\n",
    "def get_hpr(ticker):\n",
    "    try:\n",
    "        df = pybithumb.get_ohlcv(ticker)\n",
    "        df = df['2018']\n",
    "\n",
    "        df['ma5'] = df['close'].rolling(window=5).mean().shift(1)\n",
    "        df['range'] = (df['high'] - df['low']) * 0.5\n",
    "        df['target'] = df['open'] + df['range'].shift(1)\n",
    "        df['bull'] = df['open'] > df['ma5']\n",
    "\n",
    "        fee = 0.0032\n",
    "        df['ror'] = np.where((df['high'] > df['target']) & df['bull'],\n",
    "                              df['close'] / df['target'] - fee,\n",
    "                              1)\n",
    "\n",
    "        df['hpr'] = df['ror'].cumprod()\n",
    "        df['dd'] = (df['hpr'].cummax() - df['hpr']) / df['hpr'].cummax() * 100\n",
    "        return df['hpr'][-2]\n",
    "    except:\n",
    "        return 1\n",
    "\n",
    "\n",
    "tickers = pybithumb.get_tickers()\n",
    "\n",
    "hprs = []\n",
    "for ticker in tickers:\n",
    "    hpr = get_hpr(ticker)\n",
    "    hprs.append((ticker, hpr))\n",
    "\n",
    "sorted_hprs = sorted(hprs, key=lambda x:x[1], reverse=True)\n",
    "print(sorted_hprs[:5])"
   ]
  },
  {
   "cell_type": "code",
   "execution_count": null,
   "metadata": {},
   "outputs": [],
   "source": []
  }
 ],
 "metadata": {
  "kernelspec": {
   "name": "python385jvsc74a57bd0916dbcbb3f70747c44a77c7bcd40155683ae19c65e1c03b4aa3499c5328201f1",
   "display_name": "Python 3.8.5 64-bit"
  },
  "language_info": {
   "codemirror_mode": {
    "name": "ipython",
    "version": 3
   },
   "file_extension": ".py",
   "mimetype": "text/x-python",
   "name": "python",
   "nbconvert_exporter": "python",
   "pygments_lexer": "ipython3",
   "version": "3.8.5"
  },
  "metadata": {
   "interpreter": {
    "hash": "916dbcbb3f70747c44a77c7bcd40155683ae19c65e1c03b4aa3499c5328201f1"
   }
  }
 },
 "nbformat": 4,
 "nbformat_minor": 4
}