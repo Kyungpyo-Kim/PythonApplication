{
 "cells": [
  {
   "cell_type": "code",
   "execution_count": 10,
   "metadata": {},
   "outputs": [
    {
     "name": "stdout",
     "output_type": "stream",
     "text": [
      "0.1 0.008698\n",
      "0.2 0.048965\n",
      "0.3 0.169152\n",
      "0.4 1.043055\n",
      "0.5 2.144039\n",
      "0.6 4.924765\n",
      "0.7 5.718025\n",
      "0.8 5.969936\n",
      "0.9 4.004160\n",
      "                           open        high         low       close  \\\n",
      "time                                                                  \n",
      "2021-04-07 00:00:00  77631000.0  79500000.0  68100000.0  72387000.0   \n",
      "2021-04-08 00:00:00  72387000.0  74628000.0  70350000.0  74330000.0   \n",
      "2021-04-09 00:00:00  74313000.0  75986000.0  73154000.0  75471000.0   \n",
      "2021-04-10 00:00:00  75443000.0  79154000.0  75000000.0  78514000.0   \n",
      "2021-04-11 16:00:00  78480000.0  79100000.0  76300000.0  77026000.0   \n",
      "\n",
      "                          volume       range  range_shift1      target  \\\n",
      "time                                                                     \n",
      "2021-04-07 00:00:00  8720.496603  10260000.0     2520000.0  80151000.0   \n",
      "2021-04-08 00:00:00  4763.426768   3850200.0    10260000.0  82647000.0   \n",
      "2021-04-09 00:00:00  4106.284156   2548800.0     3850200.0  78163200.0   \n",
      "2021-04-10 00:00:00  3855.943855   3738600.0     2548800.0  77991800.0   \n",
      "2021-04-11 16:00:00  2637.950012   2520000.0     3738600.0  82218600.0   \n",
      "\n",
      "                          ror       hpr  \n",
      "time                                     \n",
      "2021-04-07 00:00:00  1.000000  3.990212  \n",
      "2021-04-08 00:00:00  1.000000  3.990212  \n",
      "2021-04-09 00:00:00  1.000000  3.990212  \n",
      "2021-04-10 00:00:00  1.003496  4.004160  \n",
      "2021-04-11 16:00:00  1.000000  4.004160  \n"
     ]
    }
   ],
   "source": [
    "import pybithumb\n",
    "import numpy as np\n",
    "\n",
    "def get_ror(k = 0.5, fee=0.0032):\n",
    "    df = pybithumb.get_ohlcv(\"BTC\")\n",
    "    df['range'] = (df['high'] - df['low']) * k\n",
    "    df['range_shift1'] = df['range'].shift(1)\n",
    "    df['target'] = df['open'] + df['range_shift1']\n",
    "\n",
    "    df['ror'] = np.where(df['high'] > df['target'], \n",
    "                         df['close'] / df['target'] -fee,\n",
    "                         1)\n",
    "    ror = df['ror'].cumprod()[-2]\n",
    "    return ror\n",
    "\n",
    "for k in np.arange(0.1, 1.0, 0.1):\n",
    "    ror = get_ror(k)\n",
    "    print(\"%.1f %f\" % (k, ror))\n",
    "\n",
    "\n",
    "df = pybithumb.get_ohlcv(\"BTC\")\n",
    "df['range'] = (df['high'] - df['low']) * k\n",
    "df['range_shift1'] = df['range'].shift(1)\n",
    "df['target'] = df['open'] + df['range_shift1']\n",
    "\n",
    "df['ror'] = np.where(df['high'] > df['target'], \n",
    "                     df['close'] / df['target'] -fee,\n",
    "                     1)\n",
    "\n",
    "ror = df['ror'].cumprod()[-2]\n",
    "df['hpr'] = df['ror'].cumprod()\n",
    "print(df.tail())\n",
    "df.to_excel(\"btc.xlsx\")"
   ]
  },
  {
   "cell_type": "code",
   "execution_count": null,
   "metadata": {},
   "outputs": [],
   "source": []
  }
 ],
 "metadata": {
  "kernelspec": {
   "display_name": "Python 3",
   "language": "python",
   "name": "python3"
  },
  "language_info": {
   "codemirror_mode": {
    "name": "ipython",
    "version": 3
   },
   "file_extension": ".py",
   "mimetype": "text/x-python",
   "name": "python",
   "nbconvert_exporter": "python",
   "pygments_lexer": "ipython3",
   "version": "3.8.5"
  }
 },
 "nbformat": 4,
 "nbformat_minor": 4
}
